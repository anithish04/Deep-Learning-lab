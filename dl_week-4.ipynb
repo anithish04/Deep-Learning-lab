{
  "nbformat": 4,
  "nbformat_minor": 0,
  "metadata": {
    "colab": {
      "provenance": []
    },
    "kernelspec": {
      "name": "python3",
      "display_name": "Python 3"
    },
    "language_info": {
      "name": "python"
    }
  },
  "cells": [
    {
      "cell_type": "code",
      "source": [
        "## 4.1 - BASIC OBJECT CLASSIFICATION USING PRE-TRAINED VGG16 MODEL"
      ],
      "metadata": {
        "id": "QXNMd5a2Jnw3"
      },
      "execution_count": 2,
      "outputs": []
    },
    {
      "cell_type": "code",
      "execution_count": 1,
      "metadata": {
        "colab": {
          "base_uri": "https://localhost:8080/"
        },
        "id": "3iZzTSVKJKdB",
        "outputId": "9687a448-2bd1-4003-d34d-eccfbf8b969b"
      },
      "outputs": [
        {
          "output_type": "stream",
          "name": "stdout",
          "text": [
            "Downloading data from https://www.cs.toronto.edu/~kriz/cifar-10-python.tar.gz\n",
            "\u001b[1m170498071/170498071\u001b[0m \u001b[32m━━━━━━━━━━━━━━━━━━━━\u001b[0m\u001b[37m\u001b[0m \u001b[1m4s\u001b[0m 0us/step\n",
            "Downloading data from https://storage.googleapis.com/tensorflow/keras-applications/vgg16/vgg16_weights_tf_dim_ordering_tf_kernels_notop.h5\n",
            "\u001b[1m58889256/58889256\u001b[0m \u001b[32m━━━━━━━━━━━━━━━━━━━━\u001b[0m\u001b[37m\u001b[0m \u001b[1m0s\u001b[0m 0us/step\n",
            "Epoch 1/5\n"
          ]
        },
        {
          "output_type": "stream",
          "name": "stderr",
          "text": [
            "/usr/local/lib/python3.12/dist-packages/keras/src/trainers/data_adapters/py_dataset_adapter.py:121: UserWarning: Your `PyDataset` class should call `super().__init__(**kwargs)` in its constructor. `**kwargs` can include `workers`, `use_multiprocessing`, `max_queue_size`. Do not pass these arguments to `fit()`, as they will be ignored.\n",
            "  self._warn_if_super_not_called()\n"
          ]
        },
        {
          "output_type": "stream",
          "name": "stdout",
          "text": [
            "\u001b[1m313/313\u001b[0m \u001b[32m━━━━━━━━━━━━━━━━━━━━\u001b[0m\u001b[37m\u001b[0m \u001b[1m154s\u001b[0m 485ms/step - accuracy: 0.3594 - loss: 6.4520 - val_accuracy: 0.4825 - val_loss: 2.0801\n",
            "Epoch 2/5\n",
            "\u001b[1m313/313\u001b[0m \u001b[32m━━━━━━━━━━━━━━━━━━━━\u001b[0m\u001b[37m\u001b[0m \u001b[1m150s\u001b[0m 478ms/step - accuracy: 0.5118 - loss: 1.6766 - val_accuracy: 0.5415 - val_loss: 1.5670\n",
            "Epoch 3/5\n",
            "\u001b[1m313/313\u001b[0m \u001b[32m━━━━━━━━━━━━━━━━━━━━\u001b[0m\u001b[37m\u001b[0m \u001b[1m149s\u001b[0m 478ms/step - accuracy: 0.5832 - loss: 1.2240 - val_accuracy: 0.5450 - val_loss: 1.4455\n",
            "Epoch 4/5\n",
            "\u001b[1m313/313\u001b[0m \u001b[32m━━━━━━━━━━━━━━━━━━━━\u001b[0m\u001b[37m\u001b[0m \u001b[1m150s\u001b[0m 479ms/step - accuracy: 0.6209 - loss: 1.1077 - val_accuracy: 0.5795 - val_loss: 1.4017\n",
            "Epoch 5/5\n",
            "\u001b[1m313/313\u001b[0m \u001b[32m━━━━━━━━━━━━━━━━━━━━\u001b[0m\u001b[37m\u001b[0m \u001b[1m151s\u001b[0m 484ms/step - accuracy: 0.6527 - loss: 1.0096 - val_accuracy: 0.5660 - val_loss: 1.3660\n",
            "Test Accuracy: 56.60%\n"
          ]
        }
      ],
      "source": [
        "import numpy as np\n",
        "from keras.datasets import cifar10\n",
        "from keras.utils import to_categorical\n",
        "from keras.applications.vgg16 import VGG16, preprocess_input\n",
        "from keras.models import Model\n",
        "from keras.layers import Dense, Flatten, Input\n",
        "from tensorflow.keras.preprocessing.image import ImageDataGenerator   # ✅ fixed import\n",
        "from keras.optimizers import Adam\n",
        "from keras.callbacks import EarlyStopping\n",
        "\n",
        "# Load CIFAR-10\n",
        "(x_train, y_train), (x_test, y_test) = cifar10.load_data()\n",
        "\n",
        "# ✅ Reduce dataset size (use only 10,000 training samples instead of 50,000)\n",
        "x_train = x_train[:10000]\n",
        "y_train = y_train[:10000]\n",
        "x_test = x_test[:2000]\n",
        "y_test = y_test[:2000]\n",
        "\n",
        "# One-hot encode\n",
        "y_train = to_categorical(y_train, 10)\n",
        "y_test = to_categorical(y_test, 10)\n",
        "\n",
        "# Build VGG16 transfer learning model\n",
        "base_model = VGG16(weights='imagenet', include_top=False, input_shape=(32, 32, 3))\n",
        "x = base_model.output\n",
        "x = Flatten()(x)\n",
        "x = Dense(128, activation='relu')(x)   # smaller dense layer for speed\n",
        "predictions = Dense(10, activation='softmax')(x)\n",
        "model = Model(inputs=base_model.input, outputs=predictions)\n",
        "\n",
        "# Freeze base layers\n",
        "for layer in base_model.layers:\n",
        "    layer.trainable = False\n",
        "\n",
        "model.compile(optimizer=Adam(), loss='categorical_crossentropy', metrics=['accuracy'])\n",
        "\n",
        "# Preprocess input\n",
        "x_train = preprocess_input(x_train)\n",
        "x_test = preprocess_input(x_test)\n",
        "\n",
        "# Data augmentation\n",
        "datagen = ImageDataGenerator(\n",
        "    rotation_range=10,\n",
        "    width_shift_range=0.1,\n",
        "    height_shift_range=0.1,\n",
        "    horizontal_flip=True\n",
        ")\n",
        "datagen.fit(x_train)\n",
        "\n",
        "# Early stopping\n",
        "early_stopping = EarlyStopping(monitor='val_loss', patience=3, restore_best_weights=True)\n",
        "\n",
        "# ✅ Train for only 5 epochs\n",
        "history = model.fit(\n",
        "    datagen.flow(x_train, y_train, batch_size=32),\n",
        "    validation_data=(x_test, y_test),\n",
        "    epochs=5,\n",
        "    callbacks=[early_stopping],\n",
        "    verbose=1\n",
        ")\n",
        "\n",
        "# Evaluate\n",
        "loss, accuracy = model.evaluate(x_test, y_test, verbose=0)\n",
        "print(f'Test Accuracy: {accuracy * 100:.2f}%')"
      ]
    },
    {
      "cell_type": "code",
      "source": [
        "## 4.2 - IMAGENET CLASSIFICATION WITH DEEP RESIDUAL NETWORKS (RESNET)"
      ],
      "metadata": {
        "id": "xYR5hAAPNUo0"
      },
      "execution_count": null,
      "outputs": []
    },
    {
      "cell_type": "code",
      "source": [
        "from keras.applications.resnet50 import ResNet50, preprocess_input, decode_predictions\n",
        "from keras.preprocessing import image\n",
        "import numpy as np\n",
        "\n",
        "# Load pre-trained ResNet50 model\n",
        "model = ResNet50(weights='imagenet')\n",
        "\n",
        "# (Choose Option 1: upload or Option 2: download an image)\n",
        "# Example: using Option 2\n",
        "!wget -O elephant.jpg https://upload.wikimedia.org/wikipedia/commons/3/37/African_Bush_Elephant.jpg\n",
        "img_path = \"elephant.jpg\"\n",
        "\n",
        "# Preprocess image\n",
        "img = image.load_img(img_path, target_size=(224, 224))\n",
        "x = image.img_to_array(img)\n",
        "x = np.expand_dims(x, axis=0)\n",
        "x = preprocess_input(x)\n",
        "\n",
        "# Predict\n",
        "predictions = model.predict(x)\n",
        "\n",
        "# Decode top-3 predictions\n",
        "decoded_preds = decode_predictions(predictions, top=3)[0]\n",
        "print(\"Top 3 Predictions:\")\n",
        "\n",
        "for i, (imagenet_id, label, score) in enumerate(decoded_preds):\n",
        "    print(f\"{i+1}. {label} ({score*100:.2f}%)\")"
      ],
      "metadata": {
        "colab": {
          "base_uri": "https://localhost:8080/"
        },
        "id": "iyGLH5xbNkSE",
        "outputId": "ef2b9ffc-8476-4275-bab3-39bc0860bf48"
      },
      "execution_count": 4,
      "outputs": [
        {
          "output_type": "stream",
          "name": "stdout",
          "text": [
            "--2025-08-31 08:21:30--  https://upload.wikimedia.org/wikipedia/commons/3/37/African_Bush_Elephant.jpg\n",
            "Resolving upload.wikimedia.org (upload.wikimedia.org)... 208.80.153.240, 2620:0:860:ed1a::2:b\n",
            "Connecting to upload.wikimedia.org (upload.wikimedia.org)|208.80.153.240|:443... connected.\n",
            "HTTP request sent, awaiting response... 200 OK\n",
            "Length: 4783815 (4.6M) [image/jpeg]\n",
            "Saving to: ‘elephant.jpg’\n",
            "\n",
            "elephant.jpg        100%[===================>]   4.56M  16.2MB/s    in 0.3s    \n",
            "\n",
            "2025-08-31 08:21:30 (16.2 MB/s) - ‘elephant.jpg’ saved [4783815/4783815]\n",
            "\n",
            "\u001b[1m1/1\u001b[0m \u001b[32m━━━━━━━━━━━━━━━━━━━━\u001b[0m\u001b[37m\u001b[0m \u001b[1m2s\u001b[0m 2s/step\n",
            "Downloading data from https://storage.googleapis.com/download.tensorflow.org/data/imagenet_class_index.json\n",
            "\u001b[1m35363/35363\u001b[0m \u001b[32m━━━━━━━━━━━━━━━━━━━━\u001b[0m\u001b[37m\u001b[0m \u001b[1m0s\u001b[0m 0us/step\n",
            "Top 3 Predictions:\n",
            "1. African_elephant (88.57%)\n",
            "2. tusker (6.55%)\n",
            "3. Indian_elephant (3.67%)\n"
          ]
        }
      ]
    },
    {
      "cell_type": "code",
      "source": [],
      "metadata": {
        "id": "jOVHR7WaNmEp"
      },
      "execution_count": null,
      "outputs": []
    }
  ]
}